{
 "cells": [
  {
   "cell_type": "code",
   "execution_count": 84,
   "metadata": {},
   "outputs": [
    {
     "name": "stdout",
     "output_type": "stream",
     "text": [
      "Processing 18 combinations | Sampling itemset size 6\n",
      "             antecedents   consequents  antecedent support  \\\n",
      "2033  (other vegetables)  (whole milk)            0.376603   \n",
      "541         (rolls/buns)  (whole milk)            0.349666   \n",
      "2193              (soda)  (whole milk)            0.313494   \n",
      "2186            (yogurt)  (whole milk)            0.282966   \n",
      "\n",
      "      consequent support   support  confidence      lift  leverage  conviction  \n",
      "2033            0.458184  0.191380    0.508174  1.109106  0.018827    1.101643  \n",
      "541             0.458184  0.178553    0.510638  1.114484  0.018342    1.107190  \n",
      "2193            0.458184  0.151103    0.481997  1.051973  0.007465    1.045971  \n",
      "2186            0.458184  0.150590    0.532185  1.161510  0.020940    1.158185  \n"
     ]
    }
   ],
   "source": [
    "import pandas as pd\n",
    "import os\n",
    "import numpy as np\n",
    "from mlxtend.frequent_patterns import apriori, association_rules\n",
    "\n",
    "os.chdir(\"/Users/yurizmytrakov/Desktop/\")\n",
    "\n",
    "def get_association_rules(support_threshold=0.15, lift_threshold = 0.7, confidence_threshold = 0.45):\n",
    "    df = pd.read_csv('store_sales.csv')\n",
    "    df = df.drop(['date_of_transaction'], axis = 1)\n",
    "\n",
    "    orders = df.groupby('customerID')['item'].apply(list)\n",
    "    orders = orders.to_frame()\n",
    "    split_df = pd.DataFrame(orders['item'].tolist())\n",
    "\n",
    "    items = set()\n",
    "    for col in split_df:\n",
    "        items.update(split_df[col].unique())\n",
    "    items.remove(None)\n",
    "\n",
    "    itemset = set(items)\n",
    "    encoded_vals = []\n",
    "    for index, row in split_df.iterrows():\n",
    "        rowset = set(row) \n",
    "        labels = {}\n",
    "        uncommons = list(itemset - rowset)\n",
    "        commons = list(itemset.intersection(rowset))\n",
    "        for uc in uncommons:\n",
    "            labels[uc] = 0\n",
    "        for com in commons:\n",
    "            labels[com] = 1\n",
    "        encoded_vals.append(labels)\n",
    "    encoded_vals[0]\n",
    "    ohe_df = pd.DataFrame(encoded_vals)\n",
    "\n",
    "    freq_items = apriori(ohe_df, min_support=0.01, use_colnames=True, verbose=1)\n",
    "    rules = association_rules(freq_items, metric=\"confidence\", min_threshold=0.01)\n",
    "    rules = rules[(rules['confidence']>=confidence_threshold) & (rules['support']>=support_threshold) & (rules['lift']>=lift_threshold)]\n",
    "    df_rules_out = rules.sort_values('antecedent support', ascending=False)\n",
    "    return df_rules_out\n",
    "df_rules_out = get_association_rules()\n",
    "print(df_rules_out)"
   ]
  }
 ],
 "metadata": {
  "interpreter": {
   "hash": "aee8b7b246df8f9039afb4144a1f6fd8d2ca17a180786b69acc140d282b71a49"
  },
  "kernelspec": {
   "display_name": "Python 3.9.7 64-bit",
   "language": "python",
   "name": "python3"
  },
  "language_info": {
   "codemirror_mode": {
    "name": "ipython",
    "version": 3
   },
   "file_extension": ".py",
   "mimetype": "text/x-python",
   "name": "python",
   "nbconvert_exporter": "python",
   "pygments_lexer": "ipython3",
   "version": "3.9.7"
  },
  "orig_nbformat": 4
 },
 "nbformat": 4,
 "nbformat_minor": 2
}
