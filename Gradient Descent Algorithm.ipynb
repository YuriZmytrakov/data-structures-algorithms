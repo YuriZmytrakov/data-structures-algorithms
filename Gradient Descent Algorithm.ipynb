{
 "cells": [
  {
   "cell_type": "code",
   "execution_count": 1,
   "metadata": {},
   "outputs": [],
   "source": [
    "import numpy as np\n",
    "from scipy.optimize import fmin\n",
    "\n",
    "def gradDescent(gfx, gfxGrad, gdEps, gx0):\n",
    "    k=0\n",
    "    xx = []\n",
    "    xx.append(gx0)\n",
    "    while (np.linalg.norm(gfxGrad(xx[k])) > gdEps):\n",
    "    \n",
    "        func_t = lambda t: gfx([xx[k][0]-t*gfxGrad(xx[k])[0], xx[k][1]-t*gfxGrad(xx[k])[1], xx[k][2]-t*gfxGrad(xx[k])[2]])\n",
    "        t_0 = np.round(fmin(func_t, [0], disp=False)[0],3)\n",
    "\n",
    "        x_new = xx[k] - t_0 * np.array(gfxGrad(xx[k]))\n",
    "\n",
    "        xx.append(x_new)\n",
    "        k = k+1\n",
    "        print(k, ' ', xx[k-1], '---' , xx[k])\n",
    "    print('k', k, ' sol', xx[k])"
   ]
  },
  {
   "cell_type": "code",
   "execution_count": 2,
   "metadata": {},
   "outputs": [],
   "source": [
    "fx = lambda x: 2*x[0]*x[0]+3*x[1]*x[1]+x[2]*x[2]+2*x[0]*x[1]-6*x[0]-4*x[1]+24\n",
    "\n",
    "def fx_grad(x):\n",
    "    n = np.size(x)\n",
    "    grad = np.zeros(n,'d')\n",
    "    grad[0] = 4*x[0]+2*x[1] - 6\n",
    "    grad[1] = 6*x[1]+2*x[0]- 4\n",
    "    grad[2] = 2*x[2]\n",
    "    return grad"
   ]
  },
  {
   "cell_type": "code",
   "execution_count": 3,
   "metadata": {},
   "outputs": [],
   "source": [
    "def GetGradientDescent_123(x0, x1, x2):\n",
    "    x_0 = [x0, x1, x2]\n",
    "    d_epsilon = 0.01\n",
    "    gradDescent(fx, fx_grad, d_epsilon, x_0)"
   ]
  },
  {
   "cell_type": "code",
   "execution_count": 4,
   "metadata": {},
   "outputs": [
    {
     "name": "stdout",
     "output_type": "stream",
     "text": [
      "1   [0, 0, 0] --- [0.93 0.62 0.  ]\n",
      "2   [0.93 0.62 0.  ] --- [1.22224 0.17602 0.     ]\n",
      "3   [1.22224 0.17602 0.     ] --- [1.339885 0.253427 0.      ]\n",
      "4   [1.339885 0.253427 0.      ] --- [1.3776955  0.19673304 0.        ]\n",
      "5   [1.3776955  0.19673304 0.        ] --- [1.39253705 0.20668571 0.        ]\n",
      "6   [1.39253705 0.20668571 0.        ] --- [1.39715156 0.19963297 0.        ]\n",
      "7   [1.39715156 0.19963297 0.        ] --- [1.3990435  0.20086522 0.        ]\n",
      "k 7  sol [1.3990435  0.20086522 0.        ]\n"
     ]
    }
   ],
   "source": [
    "GetGradientDescent_123(0, 0, 0)"
   ]
  }
 ],
 "metadata": {
  "interpreter": {
   "hash": "aee8b7b246df8f9039afb4144a1f6fd8d2ca17a180786b69acc140d282b71a49"
  },
  "kernelspec": {
   "display_name": "Python 3.9.7 64-bit",
   "language": "python",
   "name": "python3"
  },
  "language_info": {
   "codemirror_mode": {
    "name": "ipython",
    "version": 3
   },
   "file_extension": ".py",
   "mimetype": "text/x-python",
   "name": "python",
   "nbconvert_exporter": "python",
   "pygments_lexer": "ipython3",
   "version": "3.9.7"
  },
  "orig_nbformat": 4
 },
 "nbformat": 4,
 "nbformat_minor": 2
}
