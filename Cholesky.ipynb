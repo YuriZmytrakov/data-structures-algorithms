{
 "cells": [
  {
   "cell_type": "code",
   "execution_count": null,
   "metadata": {},
   "outputs": [],
   "source": [
    "# SPD Matrix is positive definite matrix is a matrix with all positive eigenvalues. \n",
    "# We have 3 matrixes as examples, firstly, we need to check their if their eigenvalues are positive. To do so, we will use np.linalg.eigvals function."
   ]
  },
  {
   "cell_type": "code",
   "execution_count": 45,
   "metadata": {},
   "outputs": [],
   "source": [
    "import numpy as np\n",
    "import math\n",
    "import sys"
   ]
  },
  {
   "cell_type": "code",
   "execution_count": 48,
   "metadata": {},
   "outputs": [
    {
     "data": {
      "text/plain": [
       "(array([-19.61471516,   8.29037304,   3.27518877,  -1.95084665]),\n",
       " array([-35.7883131 ,  23.6988096 ,  -0.66777542,   3.75727892]),\n",
       " array([27.75749635,  0.69670695,  8.45514026, 14.09065645]))"
      ]
     },
     "execution_count": 48,
     "metadata": {},
     "output_type": "execute_result"
    }
   ],
   "source": [
    "A = np.array([[6, 5, -5, -2],\n",
    "             [5, -7, 6, 5],\n",
    "             [-5, 6, -9, -6],\n",
    "             [-2, 5, -6, 0]])\n",
    "\n",
    "B = np.array([[6, 5, -23, -2], \n",
    "             [5, -7, 16, 5],\n",
    "             [-23, 16, -9, -6],\n",
    "             [-2, 5, -1, 1]])\n",
    "\n",
    "C = np.array([[9, -6, 3, 3],\n",
    "             [-6, 20, -6, 2],\n",
    "             [3, -6, 18, -4],\n",
    "             [3, 2, -4, 4]])\n",
    "\n",
    "np.linalg.eigvals(A), np.linalg.eigvals(B), np.linalg.eigvals(C)"
   ]
  },
  {
   "cell_type": "code",
   "execution_count": 51,
   "metadata": {},
   "outputs": [
    {
     "name": "stdout",
     "output_type": "stream",
     "text": [
      "Lower Triangular\t\tTranspose\n",
      "3\t0\t0\t0\t\t3\t-2\t1\t1\t\n",
      "-2\t4\t0\t0\t\t0\t4\t-1\t1\t\n",
      "1\t-1\t4\t0\t\t0\t0\t4\t-1\t\n",
      "1\t1\t-1\t1\t\t0\t0\t0\t1\t\n"
     ]
    }
   ],
   "source": [
    "def Cholesky_Decomposition(matrix, n):\n",
    " \n",
    "    lower = [[0 for x in range(n + 1)]\n",
    "                for y in range(n + 1)];\n",
    " \n",
    "    for i in range(n):\n",
    "        for j in range(i + 1):\n",
    "            sum1 = 0;\n",
    " \n",
    "            if (j == i):\n",
    "                for k in range(j):\n",
    "                    sum1 += pow(lower[j][k], 2);\n",
    "                lower[j][j] = int(math.sqrt(matrix[j][j] - sum1));\n",
    "            else:\n",
    "                 \n",
    "                for k in range(j):\n",
    "                    sum1 += (lower[i][k] *lower[j][k]);\n",
    "                if(lower[j][j] > 0):\n",
    "                    lower[i][j] = int((matrix[i][j] - sum1) /\n",
    "                                               lower[j][j]);\n",
    " \n",
    "    print(\"Lower Triangular\\t\\tTranspose\");\n",
    "    for i in range(n):\n",
    "        for j in range(n):\n",
    "            print(lower[i][j], end = \"\\t\");\n",
    "        print(\"\", end = \"\\t\");\n",
    "        for j in range(n):\n",
    "            print(lower[j][i], end = \"\\t\");\n",
    "        print(\"\");\n",
    "\n",
    "Cholesky_Decomposition(C, C.shape[0]);"
   ]
  }
 ],
 "metadata": {
  "interpreter": {
   "hash": "aee8b7b246df8f9039afb4144a1f6fd8d2ca17a180786b69acc140d282b71a49"
  },
  "kernelspec": {
   "display_name": "Python 3.9.7 64-bit",
   "language": "python",
   "name": "python3"
  },
  "language_info": {
   "codemirror_mode": {
    "name": "ipython",
    "version": 3
   },
   "file_extension": ".py",
   "mimetype": "text/x-python",
   "name": "python",
   "nbconvert_exporter": "python",
   "pygments_lexer": "ipython3",
   "version": "3.9.7"
  },
  "orig_nbformat": 4
 },
 "nbformat": 4,
 "nbformat_minor": 2
}
