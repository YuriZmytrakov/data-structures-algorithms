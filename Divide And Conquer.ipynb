{
 "cells": [
  {
   "cell_type": "markdown",
   "metadata": {},
   "source": [
    "# merge sort and bubble sort example"
   ]
  },
  {
   "cell_type": "code",
   "execution_count": 1,
   "metadata": {},
   "outputs": [],
   "source": [
    "def split(input_list):\n",
    "    \"\"\"\n",
    "    Splits a list into two pieces\n",
    "    :param input_list: list\n",
    "    :return: left and right lists (list, list)\n",
    "    \"\"\"\n",
    "    input_list_len = len(input_list)\n",
    "    midpoint = input_list_len // 2\n",
    "    return input_list[:midpoint], input_list[midpoint:]"
   ]
  },
  {
   "cell_type": "code",
   "execution_count": 2,
   "metadata": {},
   "outputs": [],
   "source": [
    "def merge_sorted_lists(list_left, list_right):\n",
    "    \"\"\"\n",
    "    Merge two sorted lists\n",
    "    This is a linear operation\n",
    "    O(len(list_right) + len(list_right))\n",
    "    :param left_list: list\n",
    "    :param right_list: list\n",
    "    :return merged list\n",
    "    \"\"\"\n",
    "    # Special case: one or both of lists are empty\n",
    "    if len(list_left) == 0:\n",
    "        return list_right\n",
    "    elif len(list_right) == 0:\n",
    "        return list_left\n",
    "    \n",
    "    # General case\n",
    "    index_left = index_right = 0\n",
    "    list_merged = []  # list to build and return\n",
    "    list_len_target = len(list_left) + len(list_right)\n",
    "    while len(list_merged) < list_len_target:\n",
    "        if list_left[index_left] <= list_right[index_right]:\n",
    "            # Value on the left list is smaller (or equal so it should be selected)\n",
    "            list_merged.append(list_left[index_left])\n",
    "            index_left += 1\n",
    "        else:\n",
    "            # Right value bigger\n",
    "            list_merged.append(list_right[index_right])\n",
    "            index_right += 1\n",
    "            \n",
    "        # If we are at the end of one of the lists we can take a shortcut\n",
    "        if index_right == len(list_right):\n",
    "            # Reached the end of right\n",
    "            # Append the remainder of left and break\n",
    "            list_merged += list_left[index_left:]\n",
    "            break\n",
    "        elif index_left == len(list_left):\n",
    "            # Reached the end of left\n",
    "            # Append the remainder of right and break\n",
    "            list_merged += list_right[index_right:]\n",
    "            break\n",
    "        \n",
    "    return list_merged"
   ]
  },
  {
   "cell_type": "code",
   "execution_count": 3,
   "metadata": {},
   "outputs": [],
   "source": [
    "def mergeSort(gvList):\n",
    "    if len(gvList) <= 1:\n",
    "        return gvList\n",
    "    else:\n",
    "        left, right = split(gvList)\n",
    "        # recursive function call\n",
    "        return merge_sorted_lists(mergeSort(left), mergeSort(right))"
   ]
  },
  {
   "cell_type": "code",
   "execution_count": 4,
   "metadata": {},
   "outputs": [
    {
     "name": "stdout",
     "output_type": "stream",
     "text": [
      "Sorted array is:[5,6,11,12,13,]"
     ]
    }
   ],
   "source": [
    "import sys\n",
    "my_list = [12, 11, 13, 5, 6] \n",
    "my_list = mergeSort(my_list) \n",
    "sys.stdout.write (\"Sorted array is:[\") \n",
    "for i in range(len(my_list)): \n",
    "    sys.stdout.write(str(my_list[i])+ ',')\n",
    "sys.stdout.write(\"]\")  "
   ]
  },
  {
   "cell_type": "code",
   "execution_count": 5,
   "metadata": {},
   "outputs": [],
   "source": [
    "def bubblesort(list):\n",
    "    # Swap the elements to arrange in order\n",
    "    for iter_num in range(len(list)-1,0,-1):\n",
    "        for idx in range(iter_num):\n",
    "            if list[idx]>list[idx+1]:\n",
    "                temp = list[idx]\n",
    "                list[idx] = list[idx+1]\n",
    "                list[idx+1] = temp\n",
    "    return list"
   ]
  },
  {
   "cell_type": "code",
   "execution_count": 6,
   "metadata": {},
   "outputs": [
    {
     "name": "stdout",
     "output_type": "stream",
     "text": [
      "Sorted array is:[5,6,11,12,13,]"
     ]
    }
   ],
   "source": [
    "my_list = [12, 11, 13, 5, 6] \n",
    "my_list = bubblesort(my_list) \n",
    "sys.stdout.write (\"Sorted array is:[\") \n",
    "for i in range(len(my_list)): \n",
    "    sys.stdout.write(str(my_list[i])+ ',')\n",
    "sys.stdout.write(\"]\")  "
   ]
  },
  {
   "cell_type": "code",
   "execution_count": 7,
   "metadata": {},
   "outputs": [],
   "source": [
    "# Create pandas dataframe\n",
    "\n",
    "import numpy as np\n",
    "import pandas as pd\n",
    "\n",
    "v_sorting_algos = [\"bubble\", \"merge\"]\n",
    "df = pd.DataFrame(np.zeros((10,2)), columns = v_sorting_algos, index = [1000*i for i in range(1,11)]) #creates a new dataframe that's empty"
   ]
  },
  {
   "cell_type": "code",
   "execution_count": 8,
   "metadata": {
    "tags": []
   },
   "outputs": [
    {
     "name": "stdout",
     "output_type": "stream",
     "text": [
      "mergeSort 9.65913\n"
     ]
    },
    {
     "data": {
      "text/html": [
       "<div>\n",
       "<style scoped>\n",
       "    .dataframe tbody tr th:only-of-type {\n",
       "        vertical-align: middle;\n",
       "    }\n",
       "\n",
       "    .dataframe tbody tr th {\n",
       "        vertical-align: top;\n",
       "    }\n",
       "\n",
       "    .dataframe thead th {\n",
       "        text-align: right;\n",
       "    }\n",
       "</style>\n",
       "<table border=\"1\" class=\"dataframe\">\n",
       "  <thead>\n",
       "    <tr style=\"text-align: right;\">\n",
       "      <th></th>\n",
       "      <th>bubble</th>\n",
       "      <th>merge</th>\n",
       "    </tr>\n",
       "  </thead>\n",
       "  <tbody>\n",
       "    <tr>\n",
       "      <th>1000</th>\n",
       "      <td>0.0</td>\n",
       "      <td>9.65913</td>\n",
       "    </tr>\n",
       "    <tr>\n",
       "      <th>2000</th>\n",
       "      <td>0.0</td>\n",
       "      <td>0.00000</td>\n",
       "    </tr>\n",
       "    <tr>\n",
       "      <th>3000</th>\n",
       "      <td>0.0</td>\n",
       "      <td>0.00000</td>\n",
       "    </tr>\n",
       "    <tr>\n",
       "      <th>4000</th>\n",
       "      <td>0.0</td>\n",
       "      <td>0.00000</td>\n",
       "    </tr>\n",
       "    <tr>\n",
       "      <th>5000</th>\n",
       "      <td>0.0</td>\n",
       "      <td>0.00000</td>\n",
       "    </tr>\n",
       "    <tr>\n",
       "      <th>6000</th>\n",
       "      <td>0.0</td>\n",
       "      <td>0.00000</td>\n",
       "    </tr>\n",
       "    <tr>\n",
       "      <th>7000</th>\n",
       "      <td>0.0</td>\n",
       "      <td>0.00000</td>\n",
       "    </tr>\n",
       "    <tr>\n",
       "      <th>8000</th>\n",
       "      <td>0.0</td>\n",
       "      <td>0.00000</td>\n",
       "    </tr>\n",
       "    <tr>\n",
       "      <th>9000</th>\n",
       "      <td>0.0</td>\n",
       "      <td>0.00000</td>\n",
       "    </tr>\n",
       "    <tr>\n",
       "      <th>10000</th>\n",
       "      <td>0.0</td>\n",
       "      <td>0.00000</td>\n",
       "    </tr>\n",
       "  </tbody>\n",
       "</table>\n",
       "</div>"
      ],
      "text/plain": [
       "       bubble    merge\n",
       "1000      0.0  9.65913\n",
       "2000      0.0  0.00000\n",
       "3000      0.0  0.00000\n",
       "4000      0.0  0.00000\n",
       "5000      0.0  0.00000\n",
       "6000      0.0  0.00000\n",
       "7000      0.0  0.00000\n",
       "8000      0.0  0.00000\n",
       "9000      0.0  0.00000\n",
       "10000     0.0  0.00000"
      ]
     },
     "execution_count": 8,
     "metadata": {},
     "output_type": "execute_result"
    }
   ],
   "source": [
    "# record run time for one case\n",
    "import time\n",
    "import numpy as np\n",
    "\n",
    "rnd_list = list(np.random.randint(100, size=1000000))\n",
    "# rnd_list = [12, 11, 13, 5, 6]\n",
    "\n",
    "start = time.time()\n",
    "mergeSort(rnd_list)\n",
    "end = time.time()\n",
    "print(\"mergeSort\", np.round(end - start, 5))\n",
    "\n",
    "df.loc[1000][\"merge\"] = np.round(end - start, 5)\n",
    "df"
   ]
  },
  {
   "cell_type": "code",
   "execution_count": 9,
   "metadata": {},
   "outputs": [
    {
     "data": {
      "text/html": [
       "<div>\n",
       "<style scoped>\n",
       "    .dataframe tbody tr th:only-of-type {\n",
       "        vertical-align: middle;\n",
       "    }\n",
       "\n",
       "    .dataframe tbody tr th {\n",
       "        vertical-align: top;\n",
       "    }\n",
       "\n",
       "    .dataframe thead th {\n",
       "        text-align: right;\n",
       "    }\n",
       "</style>\n",
       "<table border=\"1\" class=\"dataframe\">\n",
       "  <thead>\n",
       "    <tr style=\"text-align: right;\">\n",
       "      <th></th>\n",
       "      <th>bubble</th>\n",
       "      <th>merge</th>\n",
       "    </tr>\n",
       "  </thead>\n",
       "  <tbody>\n",
       "    <tr>\n",
       "      <th>1000</th>\n",
       "      <td>0.09216</td>\n",
       "      <td>9.65913</td>\n",
       "    </tr>\n",
       "    <tr>\n",
       "      <th>2000</th>\n",
       "      <td>0.33909</td>\n",
       "      <td>0.00000</td>\n",
       "    </tr>\n",
       "    <tr>\n",
       "      <th>3000</th>\n",
       "      <td>0.79089</td>\n",
       "      <td>0.00000</td>\n",
       "    </tr>\n",
       "    <tr>\n",
       "      <th>4000</th>\n",
       "      <td>1.40922</td>\n",
       "      <td>0.00000</td>\n",
       "    </tr>\n",
       "    <tr>\n",
       "      <th>5000</th>\n",
       "      <td>2.19011</td>\n",
       "      <td>0.00000</td>\n",
       "    </tr>\n",
       "    <tr>\n",
       "      <th>6000</th>\n",
       "      <td>3.05984</td>\n",
       "      <td>0.00000</td>\n",
       "    </tr>\n",
       "    <tr>\n",
       "      <th>7000</th>\n",
       "      <td>4.25163</td>\n",
       "      <td>0.00000</td>\n",
       "    </tr>\n",
       "    <tr>\n",
       "      <th>8000</th>\n",
       "      <td>5.63294</td>\n",
       "      <td>0.00000</td>\n",
       "    </tr>\n",
       "    <tr>\n",
       "      <th>9000</th>\n",
       "      <td>7.20974</td>\n",
       "      <td>0.00000</td>\n",
       "    </tr>\n",
       "    <tr>\n",
       "      <th>10000</th>\n",
       "      <td>9.09271</td>\n",
       "      <td>0.00000</td>\n",
       "    </tr>\n",
       "  </tbody>\n",
       "</table>\n",
       "</div>"
      ],
      "text/plain": [
       "        bubble    merge\n",
       "1000   0.09216  9.65913\n",
       "2000   0.33909  0.00000\n",
       "3000   0.79089  0.00000\n",
       "4000   1.40922  0.00000\n",
       "5000   2.19011  0.00000\n",
       "6000   3.05984  0.00000\n",
       "7000   4.25163  0.00000\n",
       "8000   5.63294  0.00000\n",
       "9000   7.20974  0.00000\n",
       "10000  9.09271  0.00000"
      ]
     },
     "execution_count": 9,
     "metadata": {},
     "output_type": "execute_result"
    }
   ],
   "source": [
    "# record run time for 10 cases\n",
    "n_experiments = 10\n",
    "\n",
    "for i in range(n_experiments):\n",
    "    np.random.seed(seed=i)\n",
    "    n_size = 1000*(i+1)\n",
    "    rnd_list = list(np.random.randint(100, size=n_size))\n",
    "    \n",
    "    start = time.time()\n",
    "    bubblesort(rnd_list)\n",
    "    end = time.time()\n",
    "    #print(\"insertionSort\", np.round(end - start, 5))\n",
    "    \n",
    "    df.loc[n_size][\"bubble\"] = np.round(end - start, 5)\n",
    "df"
   ]
  },
  {
   "cell_type": "code",
   "execution_count": 10,
   "metadata": {},
   "outputs": [
    {
     "data": {
      "text/html": [
       "<div>\n",
       "<style scoped>\n",
       "    .dataframe tbody tr th:only-of-type {\n",
       "        vertical-align: middle;\n",
       "    }\n",
       "\n",
       "    .dataframe tbody tr th {\n",
       "        vertical-align: top;\n",
       "    }\n",
       "\n",
       "    .dataframe thead th {\n",
       "        text-align: right;\n",
       "    }\n",
       "</style>\n",
       "<table border=\"1\" class=\"dataframe\">\n",
       "  <thead>\n",
       "    <tr style=\"text-align: right;\">\n",
       "      <th></th>\n",
       "      <th>bubble</th>\n",
       "      <th>merge</th>\n",
       "    </tr>\n",
       "  </thead>\n",
       "  <tbody>\n",
       "    <tr>\n",
       "      <th>1000</th>\n",
       "      <td>0.09216</td>\n",
       "      <td>0.00598</td>\n",
       "    </tr>\n",
       "    <tr>\n",
       "      <th>2000</th>\n",
       "      <td>0.33909</td>\n",
       "      <td>0.01199</td>\n",
       "    </tr>\n",
       "    <tr>\n",
       "      <th>3000</th>\n",
       "      <td>0.79089</td>\n",
       "      <td>0.01600</td>\n",
       "    </tr>\n",
       "    <tr>\n",
       "      <th>4000</th>\n",
       "      <td>1.40922</td>\n",
       "      <td>0.02094</td>\n",
       "    </tr>\n",
       "    <tr>\n",
       "      <th>5000</th>\n",
       "      <td>2.19011</td>\n",
       "      <td>0.02897</td>\n",
       "    </tr>\n",
       "    <tr>\n",
       "      <th>6000</th>\n",
       "      <td>3.05984</td>\n",
       "      <td>0.03541</td>\n",
       "    </tr>\n",
       "    <tr>\n",
       "      <th>7000</th>\n",
       "      <td>4.25163</td>\n",
       "      <td>0.03595</td>\n",
       "    </tr>\n",
       "    <tr>\n",
       "      <th>8000</th>\n",
       "      <td>5.63294</td>\n",
       "      <td>0.04488</td>\n",
       "    </tr>\n",
       "    <tr>\n",
       "      <th>9000</th>\n",
       "      <td>7.20974</td>\n",
       "      <td>0.05182</td>\n",
       "    </tr>\n",
       "    <tr>\n",
       "      <th>10000</th>\n",
       "      <td>9.09271</td>\n",
       "      <td>0.05685</td>\n",
       "    </tr>\n",
       "  </tbody>\n",
       "</table>\n",
       "</div>"
      ],
      "text/plain": [
       "        bubble    merge\n",
       "1000   0.09216  0.00598\n",
       "2000   0.33909  0.01199\n",
       "3000   0.79089  0.01600\n",
       "4000   1.40922  0.02094\n",
       "5000   2.19011  0.02897\n",
       "6000   3.05984  0.03541\n",
       "7000   4.25163  0.03595\n",
       "8000   5.63294  0.04488\n",
       "9000   7.20974  0.05182\n",
       "10000  9.09271  0.05685"
      ]
     },
     "execution_count": 10,
     "metadata": {},
     "output_type": "execute_result"
    }
   ],
   "source": [
    "n_experiments = 10\n",
    "\n",
    "for i in range(n_experiments):\n",
    "    np.random.seed(seed=i)\n",
    "    n_size = 1000*(i+1)\n",
    "    rnd_list = list(np.random.randint(100, size=n_size))\n",
    "    \n",
    "    start = time.time()\n",
    "    mergeSort(rnd_list)\n",
    "    end = time.time()\n",
    "    #print(\"insertionSort\", np.round(end - start, 5))\n",
    "    \n",
    "    df.loc[n_size][\"merge\"] = np.round(end - start, 5)\n",
    "\n",
    "df"
   ]
  },
  {
   "cell_type": "code",
   "execution_count": 11,
   "metadata": {},
   "outputs": [
    {
     "data": {
      "text/html": [
       "<div>\n",
       "<style scoped>\n",
       "    .dataframe tbody tr th:only-of-type {\n",
       "        vertical-align: middle;\n",
       "    }\n",
       "\n",
       "    .dataframe tbody tr th {\n",
       "        vertical-align: top;\n",
       "    }\n",
       "\n",
       "    .dataframe thead th {\n",
       "        text-align: right;\n",
       "    }\n",
       "</style>\n",
       "<table border=\"1\" class=\"dataframe\">\n",
       "  <thead>\n",
       "    <tr style=\"text-align: right;\">\n",
       "      <th></th>\n",
       "      <th>bubble</th>\n",
       "      <th>merge</th>\n",
       "      <th>ratio (%)</th>\n",
       "    </tr>\n",
       "  </thead>\n",
       "  <tbody>\n",
       "    <tr>\n",
       "      <th>1000</th>\n",
       "      <td>0.09216</td>\n",
       "      <td>0.00598</td>\n",
       "      <td>6.5</td>\n",
       "    </tr>\n",
       "    <tr>\n",
       "      <th>2000</th>\n",
       "      <td>0.33909</td>\n",
       "      <td>0.01199</td>\n",
       "      <td>3.5</td>\n",
       "    </tr>\n",
       "    <tr>\n",
       "      <th>3000</th>\n",
       "      <td>0.79089</td>\n",
       "      <td>0.01600</td>\n",
       "      <td>2.0</td>\n",
       "    </tr>\n",
       "    <tr>\n",
       "      <th>4000</th>\n",
       "      <td>1.40922</td>\n",
       "      <td>0.02094</td>\n",
       "      <td>1.5</td>\n",
       "    </tr>\n",
       "    <tr>\n",
       "      <th>5000</th>\n",
       "      <td>2.19011</td>\n",
       "      <td>0.02897</td>\n",
       "      <td>1.3</td>\n",
       "    </tr>\n",
       "    <tr>\n",
       "      <th>6000</th>\n",
       "      <td>3.05984</td>\n",
       "      <td>0.03541</td>\n",
       "      <td>1.2</td>\n",
       "    </tr>\n",
       "    <tr>\n",
       "      <th>7000</th>\n",
       "      <td>4.25163</td>\n",
       "      <td>0.03595</td>\n",
       "      <td>0.8</td>\n",
       "    </tr>\n",
       "    <tr>\n",
       "      <th>8000</th>\n",
       "      <td>5.63294</td>\n",
       "      <td>0.04488</td>\n",
       "      <td>0.8</td>\n",
       "    </tr>\n",
       "    <tr>\n",
       "      <th>9000</th>\n",
       "      <td>7.20974</td>\n",
       "      <td>0.05182</td>\n",
       "      <td>0.7</td>\n",
       "    </tr>\n",
       "    <tr>\n",
       "      <th>10000</th>\n",
       "      <td>9.09271</td>\n",
       "      <td>0.05685</td>\n",
       "      <td>0.6</td>\n",
       "    </tr>\n",
       "  </tbody>\n",
       "</table>\n",
       "</div>"
      ],
      "text/plain": [
       "        bubble    merge  ratio (%)\n",
       "1000   0.09216  0.00598        6.5\n",
       "2000   0.33909  0.01199        3.5\n",
       "3000   0.79089  0.01600        2.0\n",
       "4000   1.40922  0.02094        1.5\n",
       "5000   2.19011  0.02897        1.3\n",
       "6000   3.05984  0.03541        1.2\n",
       "7000   4.25163  0.03595        0.8\n",
       "8000   5.63294  0.04488        0.8\n",
       "9000   7.20974  0.05182        0.7\n",
       "10000  9.09271  0.05685        0.6"
      ]
     },
     "execution_count": 11,
     "metadata": {},
     "output_type": "execute_result"
    }
   ],
   "source": [
    "df[\"ratio (%)\"] = 100*np.round(df[\"merge\"]/df[\"bubble\"],3)\n",
    "df"
   ]
  },
  {
   "cell_type": "markdown",
   "metadata": {},
   "source": [
    "# insertion sort exercise"
   ]
  },
  {
   "cell_type": "code",
   "execution_count": 12,
   "metadata": {},
   "outputs": [
    {
     "data": {
      "text/plain": [
       "array([0.35503711, 0.66048323, 0.03898472, 0.21916632])"
      ]
     },
     "execution_count": 12,
     "metadata": {},
     "output_type": "execute_result"
    }
   ],
   "source": [
    "import numpy as np\n",
    "n = 4 # the size of the array\n",
    "random_numbers = np.random.rand(n)\n",
    "random_numbers"
   ]
  },
  {
   "cell_type": "code",
   "execution_count": 13,
   "metadata": {},
   "outputs": [],
   "source": [
    "import numpy as np\n",
    "import time\n",
    "import matplotlib.pyplot as plt"
   ]
  },
  {
   "cell_type": "code",
   "execution_count": 14,
   "metadata": {},
   "outputs": [],
   "source": [
    "def SortArray(input_list):\n",
    "    A = np.copy(input_list)\n",
    "    n = A.shape[0]\n",
    "    for j in range(1, n):\n",
    "        key = A[j]\n",
    "        i = j-1\n",
    "        while i >= 0 and A[i] > key:\n",
    "            A[i+1] = A[i]\n",
    "            i = i-1\n",
    "        A[i+1] = key\n",
    "    return A"
   ]
  },
  {
   "cell_type": "code",
   "execution_count": 15,
   "metadata": {},
   "outputs": [],
   "source": [
    "def PlotTimes(n):\n",
    "    time_list = np.zeros(n - 2)\n",
    "    for i in range(2, n):\n",
    "        start_time = time.time()\n",
    "        test = np.random.rand(i)\n",
    "        sorted_array = SortArray(test)\n",
    "        time_list[i-2] = time.time() - start_time\n",
    "    plt.plot(np.linspace(2, n - 1, n - 2), time_list, 'ro')\n",
    "    plt.show()\n",
    "    return"
   ]
  },
  {
   "cell_type": "code",
   "execution_count": 16,
   "metadata": {},
   "outputs": [
    {
     "data": {
      "image/png": "[encoded data removed]",
      "text/plain": [
       "<Figure size 432x288 with 1 Axes>"
      ]
     },
     "metadata": {
      "needs_background": "light"
     },
     "output_type": "display_data"
    }
   ],
   "source": [
    "PlotTimes(1000)"
   ]
  }
 ],
 "metadata": {
  "kernelspec": {
   "display_name": "Python (envp37)",
   "language": "python",
   "name": "envp37"
  },
  "language_info": {
   "codemirror_mode": {
    "name": "ipython",
    "version": 3
   },
   "file_extension": ".py",
   "mimetype": "text/x-python",
   "name": "python",
   "nbconvert_exporter": "python",
   "pygments_lexer": "ipython3",
   "version": "3.7.7"
  },
  "latex_envs": {
   "LaTeX_envs_menu_present": true,
   "autoclose": false,
   "autocomplete": true,
   "bibliofile": "biblio.bib",
   "cite_by": "apalike",
   "current_citInitial": 1,
   "eqLabelWithNumbers": true,
   "eqNumInitial": 1,
   "hotkeys": {
    "equation": "Ctrl-E",
    "itemize": "Ctrl-I"
   },
   "labels_anchors": false,
   "latex_user_defs": false,
   "report_style_numbering": false,
   "user_envs_cfg": false
  },
  "toc": {
   "base_numbering": 1,
   "nav_menu": {},
   "number_sections": true,
   "sideBar": true,
   "skip_h1_title": false,
   "title_cell": "Table of Contents",
   "title_sidebar": "Contents",
   "toc_cell": false,
   "toc_position": {},
   "toc_section_display": true,
   "toc_window_display": false
  }
 },
 "nbformat": 4,
 "nbformat_minor": 4
}
