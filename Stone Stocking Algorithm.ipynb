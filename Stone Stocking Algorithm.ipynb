{
 "cells": [
  {
   "cell_type": "code",
   "execution_count": 28,
   "metadata": {},
   "outputs": [],
   "source": [
    "import numpy as np"
   ]
  },
  {
   "cell_type": "code",
   "execution_count": 29,
   "metadata": {},
   "outputs": [],
   "source": [
    "def stone_stacking_algo(data):\n",
    "    data.sort(key=lambda x: x[1])\n",
    "    n = len(data)\n",
    "    W = np.zeros(shape=(n,n))\n",
    "    for n in range(n):\n",
    "        W[0,n] = np.inf\n",
    "    W[0][0] = 0\n",
    "\n",
    "    for i in range(1, n+1):\n",
    "        for j in range(1, i-1):\n",
    "            if data[i][1] >= W[i-1][j-1] + data[i][0]:\n",
    "                W[i][j] = min(W[i-1][j], W[i-1][j-1] + data[i][0])\n",
    "            else:\n",
    "                W[i][j] = W[i-1][j]\n",
    "        if data[i][1] >= W[i-1][i-1] + data[i][0]:\n",
    "            W[i][i] = W[i-1][i-1] + data[i][0]\n",
    "        else:\n",
    "            W[i][i] = np.inf\n",
    "    maxV = 0\n",
    "    for j in range(1, n+1):\n",
    "        if W[n][j] < np.inf:\n",
    "            maxV = j\n",
    "    return maxV"
   ]
  },
  {
   "cell_type": "code",
   "execution_count": 31,
   "metadata": {},
   "outputs": [
    {
     "data": {
      "text/plain": [
       "2"
      ]
     },
     "execution_count": 31,
     "metadata": {},
     "output_type": "execute_result"
    }
   ],
   "source": [
    "data = [[100,200],[50,100],[200,50]]\n",
    "stone_stacking_algo(data)"
   ]
  }
 ],
 "metadata": {
  "interpreter": {
   "hash": "aee8b7b246df8f9039afb4144a1f6fd8d2ca17a180786b69acc140d282b71a49"
  },
  "kernelspec": {
   "display_name": "Python 3.9.7 64-bit",
   "language": "python",
   "name": "python3"
  },
  "language_info": {
   "codemirror_mode": {
    "name": "ipython",
    "version": 3
   },
   "file_extension": ".py",
   "mimetype": "text/x-python",
   "name": "python",
   "nbconvert_exporter": "python",
   "pygments_lexer": "ipython3",
   "version": "3.9.7"
  },
  "orig_nbformat": 4
 },
 "nbformat": 4,
 "nbformat_minor": 2
}
