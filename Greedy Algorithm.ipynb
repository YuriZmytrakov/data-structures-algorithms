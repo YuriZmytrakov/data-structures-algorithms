{
 "cells": [
  {
   "cell_type": "code",
   "execution_count": 1,
   "metadata": {
    "tags": []
   },
   "outputs": [],
   "source": [
    "import sys\n",
    "\n",
    "class Graph_v1():\n",
    "\n",
    "\tdef __init__(self, vertices):\n",
    "\t\tself.V = vertices\n",
    "\t\tself.graph = [[0 for column in range(vertices)] \n",
    "\t\t\t\t\tfor row in range(vertices)]\n",
    "\n",
    "\t# A utility function to print the constructed MST stored in parent[]\n",
    "\tdef printMST(self, parent):\n",
    "\t\tprint(\"Edge \\tWeight\")\n",
    "\t\tfor i in range(1, self.V):\n",
    "\t\t\tprint(parent[i], \"-\", i, \"\\t\", self.graph[i][ parent[i] ])\n",
    "\n",
    "\t# A utility function to find the vertex with \n",
    "\t# minimum distance value, from the set of vertices \n",
    "\t# not yet included in shortest path tree\n",
    "\tdef minKey(self, key, mstSet):\n",
    "\n",
    "\t\t# Initialize min value\n",
    "\t\tmin = sys.maxsize\n",
    "\n",
    "\t\tfor v in range(self.V):\n",
    "\t\t\tif key[v] < min and mstSet[v] == False:\n",
    "\t\t\t\tmin = key[v]\n",
    "\t\t\t\tmin_index = v\n",
    "\n",
    "\t\treturn min_index\n",
    "\n",
    "\t# Function to construct and print MST for a graph \n",
    "\t# represented using adjacency matrix representation\n",
    "\tdef primMST(self):\n",
    "\n",
    "\t\t# Key values used to pick minimum weight edge in cut\n",
    "\t\tkey = [sys.maxsize] * self.V\n",
    "\t\tparent = [None] * self.V # Array to store constructed MST\n",
    "\t\t# Make key 0 so that this vertex is picked as first vertex\n",
    "\t\tkey[0] = 0\n",
    "\t\tmstSet = [False] * self.V\n",
    "\n",
    "\t\tparent[0] = -1 # First node is always the root of\n",
    "\n",
    "\t\tfor cout in range(self.V):\n",
    "\n",
    "\t\t\t# Pick the minimum distance vertex from \n",
    "\t\t\t# the set of vertices not yet processed. \n",
    "\t\t\t# u is always equal to src in first iteration\n",
    "\t\t\tu = self.minKey(key, mstSet)\n",
    "\n",
    "\t\t\t# Put the minimum distance vertex in \n",
    "\t\t\t# the shortest path tree\n",
    "\t\t\tmstSet[u] = True\n",
    "\n",
    "\t\t\t# Update dist value of the adjacent vertices \n",
    "\t\t\t# of the picked vertex only if the current \n",
    "\t\t\t# distance is greater than new distance and\n",
    "\t\t\t# the vertex in not in the shotest path tree\n",
    "\t\t\tfor v in range(self.V):\n",
    "\n",
    "\t\t\t\t# graph[u][v] is non zero only for adjacent vertices of m\n",
    "\t\t\t\t# mstSet[v] is false for vertices not yet included in MST\n",
    "\t\t\t\t# Update the key only if graph[u][v] is smaller than key[v]\n",
    "\t\t\t\tif self.graph[u][v] > 0 and mstSet[v] == False and key[v] > self.graph[u][v]:\n",
    "\t\t\t\t\t\tkey[v] = self.graph[u][v]\n",
    "\t\t\t\t\t\tparent[v] = u\n",
    "\n",
    "\t\tself.printMST(parent)"
   ]
  },
  {
   "cell_type": "code",
   "execution_count": 2,
   "metadata": {
    "tags": []
   },
   "outputs": [
    {
     "name": "stdout",
     "output_type": "stream",
     "text": [
      "    v0  v1  v2  v3  v4\n",
      "v0   0   2   0   6   0\n",
      "v1   2   0   3   8   5\n",
      "v2   0   3   0   0   7\n",
      "v3   6   8   0   0   9\n",
      "v4   0   5   7   9   0\n"
     ]
    },
    {
     "data": {
      "image/png": "[encoded data removed]",
      "text/plain": [
       "<Figure size 432x288 with 1 Axes>"
      ]
     },
     "metadata": {},
     "output_type": "display_data"
    }
   ],
   "source": [
    "import pandas as pd\n",
    "import numpy as np\n",
    "import networkx as nx\n",
    "\n",
    "df = pd.DataFrame()\n",
    "df['v0'] = np.array([0,2,0,6,0])\n",
    "df['v1'] = np.array([2,0,3,8,5])\n",
    "df['v2'] = np.array([0,3,0,0,7])\n",
    "df['v3'] = np.array([6,8,0,0,9])\n",
    "df['v4'] = np.array([0,5,7,9,0])\n",
    "df.index = np.array(['v0', 'v1', 'v2', 'v3', 'v4'])\n",
    "print(df)\n",
    "\n",
    "G = nx.DiGraph(df.values)\n",
    "nx.draw(G, labels = {0:\"v0\", 1:\"v1\", 2:\"v2\", 3:\"v3\", 4:\"v4\"}, with_labels = True)"
   ]
  },
  {
   "cell_type": "code",
   "execution_count": 3,
   "metadata": {
    "tags": []
   },
   "outputs": [
    {
     "name": "stdout",
     "output_type": "stream",
     "text": [
      "Edge \tWeight\n",
      "0 - 1 \t 2\n",
      "1 - 2 \t 3\n",
      "0 - 3 \t 6\n",
      "1 - 4 \t 5\n"
     ]
    }
   ],
   "source": [
    "g = Graph_v1(df.shape[0])\n",
    "g.graph = df.values\n",
    "g.primMST()"
   ]
  },
  {
   "cell_type": "markdown",
   "metadata": {},
   "source": [
    "# Kruskal's algorithm"
   ]
  },
  {
   "cell_type": "code",
   "execution_count": 4,
   "metadata": {},
   "outputs": [],
   "source": [
    "# Python program for Kruskal's algorithm to find \n",
    "# Minimum Spanning Tree of a given connected, \n",
    "# undirected and weighted graph \n",
    "\n",
    "from collections import defaultdict \n",
    "\n",
    "#Class to represent a graph \n",
    "class Graph_v2: \n",
    "\n",
    "\tdef __init__(self,vertices): \n",
    "\t\tself.V= vertices #No. of vertices \n",
    "\t\tself.graph = [] # default dictionary \n",
    "\t\t\t\t\t\t\t\t# to store graph \n",
    "\t\t\n",
    "\n",
    "\t# function to add an edge to graph \n",
    "\tdef addEdge(self,u,v,w): \n",
    "\t\tself.graph.append([u,v,w]) \n",
    "\n",
    "\t# A utility function to find set of an element i \n",
    "\t# (uses path compression technique) \n",
    "\tdef find(self, parent, i): \n",
    "\t\tif parent[i] == i: \n",
    "\t\t\treturn i \n",
    "\t\treturn self.find(parent, parent[i]) \n",
    "\n",
    "\t# A function that does union of two sets of x and y \n",
    "\t# (uses union by rank) \n",
    "\tdef union(self, parent, rank, x, y): \n",
    "\t\txroot = self.find(parent, x) \n",
    "\t\tyroot = self.find(parent, y) \n",
    "\n",
    "\t\t# Attach smaller rank tree under root of \n",
    "\t\t# high rank tree (Union by Rank) \n",
    "\t\tif rank[xroot] < rank[yroot]: \n",
    "\t\t\tparent[xroot] = yroot \n",
    "\t\telif rank[xroot] > rank[yroot]: \n",
    "\t\t\tparent[yroot] = xroot \n",
    "\n",
    "\t\t# If ranks are same, then make one as root \n",
    "\t\t# and increment its rank by one \n",
    "\t\telse : \n",
    "\t\t\tparent[yroot] = xroot \n",
    "\t\t\trank[xroot] += 1\n",
    "\n",
    "\t# The main function to construct MST using Kruskal's \n",
    "\t\t# algorithm \n",
    "\tdef KruskalMST(self): \n",
    "\n",
    "\t\tresult =[] #This will store the resultant MST \n",
    "\n",
    "\t\ti = 0 # An index variable, used for sorted edges \n",
    "\t\te = 0 # An index variable, used for result[] \n",
    "\n",
    "\t\t\t# Step 1: Sort all the edges in non-decreasing \n",
    "\t\t\t\t# order of their \n",
    "\t\t\t\t# weight. If we are not allowed to change the \n",
    "\t\t\t\t# given graph, we can create a copy of graph \n",
    "\t\tself.graph = sorted(self.graph,key=lambda item: item[2]) \n",
    "\n",
    "\t\tparent = [] ; rank = [] \n",
    "\n",
    "\t\t# Create V subsets with single elements \n",
    "\t\tfor node in range(self.V): \n",
    "\t\t\tparent.append(node) \n",
    "\t\t\trank.append(0) \n",
    "\t\n",
    "\t\t# Number of edges to be taken is equal to V-1 \n",
    "\t\twhile e < self.V -1 : \n",
    "\n",
    "\t\t\t# Step 2: Pick the smallest edge and increment \n",
    "\t\t\t\t\t# the index for next iteration \n",
    "\t\t\tu,v,w = self.graph[i] \n",
    "\t\t\ti = i + 1\n",
    "\t\t\tx = self.find(parent, u) \n",
    "\t\t\ty = self.find(parent ,v) \n",
    "\n",
    "\t\t\t# If including this edge does't cause cycle, \n",
    "\t\t\t\t\t\t# include it in result and increment the index \n",
    "\t\t\t\t\t\t# of result for next edge \n",
    "\t\t\tif x != y: \n",
    "\t\t\t\te = e + 1\t\n",
    "\t\t\t\tresult.append([u,v,w]) \n",
    "\t\t\t\tself.union(parent, rank, x, y)\t\t\t \n",
    "\t\t\t# Else discard the edge \n",
    "\n",
    "\t\t# print the contents of result[] to display the built MST \n",
    "\t\tprint(\"Following are the edges in the constructed MST\")\n",
    "\t\tfor u,v,weight in result: \n",
    "\t\t\tprint (\"%d -- %d == %d\" % (u,v,weight)) "
   ]
  },
  {
   "cell_type": "code",
   "execution_count": 5,
   "metadata": {
    "tags": []
   },
   "outputs": [
    {
     "name": "stdout",
     "output_type": "stream",
     "text": [
      "Following are the edges in the constructed MST\n",
      "0 -- 1 == 2\n",
      "1 -- 2 == 3\n",
      "1 -- 4 == 5\n",
      "0 -- 3 == 6\n"
     ]
    }
   ],
   "source": [
    "# example graph\n",
    "g = Graph_v2(5) \n",
    "g.addEdge(0, 1, 2) # source (u), destination (v), weight (w)\n",
    "g.addEdge(0, 3, 6) \n",
    "g.addEdge(1, 0, 2) \n",
    "g.addEdge(1, 2, 3) \n",
    "g.addEdge(1, 3, 8) \n",
    "g.addEdge(1, 4, 5) \n",
    "g.addEdge(2, 1, 3) \n",
    "g.addEdge(2, 4, 7) \n",
    "g.addEdge(3, 0, 6) \n",
    "g.addEdge(3, 1, 8) \n",
    "g.addEdge(3, 4, 9) \n",
    "g.addEdge(4, 1, 5) \n",
    "g.addEdge(4, 2, 7) \n",
    "g.addEdge(4, 3, 9) \n",
    "\n",
    "g.KruskalMST() "
   ]
  },
  {
   "cell_type": "code",
   "execution_count": 6,
   "metadata": {
    "tags": []
   },
   "outputs": [
    {
     "name": "stdout",
     "output_type": "stream",
     "text": [
      "Following are the edges in the constructed MST\n",
      "2 -- 3 == 4\n",
      "0 -- 3 == 5\n",
      "0 -- 1 == 10\n"
     ]
    }
   ],
   "source": [
    "# another example\n",
    "g = Graph_v2(4) \n",
    "g.addEdge(0, 1, 10)  # source (u), destination (v), weight (w)\n",
    "g.addEdge(0, 2, 6) \n",
    "g.addEdge(0, 3, 5) \n",
    "g.addEdge(1, 3, 15) \n",
    "g.addEdge(2, 3, 4) \n",
    "\n",
    "g.KruskalMST() "
   ]
  }
 ],
 "metadata": {
  "kernelspec": {
   "display_name": "Python (envp37)",
   "language": "python",
   "name": "envp37"
  },
  "language_info": {
   "codemirror_mode": {
    "name": "ipython",
    "version": 3
   },
   "file_extension": ".py",
   "mimetype": "text/x-python",
   "name": "python",
   "nbconvert_exporter": "python",
   "pygments_lexer": "ipython3",
   "version": "3.7.7"
  },
  "latex_envs": {
   "LaTeX_envs_menu_present": true,
   "autoclose": false,
   "autocomplete": true,
   "bibliofile": "biblio.bib",
   "cite_by": "apalike",
   "current_citInitial": 1,
   "eqLabelWithNumbers": true,
   "eqNumInitial": 1,
   "hotkeys": {
    "equation": "Ctrl-E",
    "itemize": "Ctrl-I"
   },
   "labels_anchors": false,
   "latex_user_defs": false,
   "report_style_numbering": false,
   "user_envs_cfg": false
  },
  "toc": {
   "base_numbering": 1,
   "nav_menu": {},
   "number_sections": true,
   "sideBar": true,
   "skip_h1_title": false,
   "title_cell": "Table of Contents",
   "title_sidebar": "Contents",
   "toc_cell": false,
   "toc_position": {},
   "toc_section_display": true,
   "toc_window_display": false
  }
 },
 "nbformat": 4,
 "nbformat_minor": 4
}
