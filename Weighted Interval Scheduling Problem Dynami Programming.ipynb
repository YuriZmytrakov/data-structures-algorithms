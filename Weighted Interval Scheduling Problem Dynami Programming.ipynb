{
 "cells": [
  {
   "cell_type": "markdown",
   "metadata": {},
   "source": [
    "# Weighted interval scheduling problem"
   ]
  },
  {
   "cell_type": "code",
   "execution_count": 1,
   "metadata": {},
   "outputs": [
    {
     "data": {
      "text/html": [
       "<div>\n",
       "<style scoped>\n",
       "    .dataframe tbody tr th:only-of-type {\n",
       "        vertical-align: middle;\n",
       "    }\n",
       "\n",
       "    .dataframe tbody tr th {\n",
       "        vertical-align: top;\n",
       "    }\n",
       "\n",
       "    .dataframe thead th {\n",
       "        text-align: right;\n",
       "    }\n",
       "</style>\n",
       "<table border=\"1\" class=\"dataframe\">\n",
       "  <thead>\n",
       "    <tr style=\"text-align: right;\">\n",
       "      <th></th>\n",
       "      <th>start_time</th>\n",
       "      <th>finish_time</th>\n",
       "      <th>weight</th>\n",
       "    </tr>\n",
       "  </thead>\n",
       "  <tbody>\n",
       "    <tr>\n",
       "      <th>a</th>\n",
       "      <td>0</td>\n",
       "      <td>6</td>\n",
       "      <td>17</td>\n",
       "    </tr>\n",
       "    <tr>\n",
       "      <th>b</th>\n",
       "      <td>1</td>\n",
       "      <td>4</td>\n",
       "      <td>8</td>\n",
       "    </tr>\n",
       "    <tr>\n",
       "      <th>c</th>\n",
       "      <td>3</td>\n",
       "      <td>5</td>\n",
       "      <td>5</td>\n",
       "    </tr>\n",
       "    <tr>\n",
       "      <th>d</th>\n",
       "      <td>3</td>\n",
       "      <td>8</td>\n",
       "      <td>14</td>\n",
       "    </tr>\n",
       "    <tr>\n",
       "      <th>e</th>\n",
       "      <td>4</td>\n",
       "      <td>7</td>\n",
       "      <td>7</td>\n",
       "    </tr>\n",
       "    <tr>\n",
       "      <th>f</th>\n",
       "      <td>5</td>\n",
       "      <td>9</td>\n",
       "      <td>3</td>\n",
       "    </tr>\n",
       "    <tr>\n",
       "      <th>g</th>\n",
       "      <td>6</td>\n",
       "      <td>10</td>\n",
       "      <td>10</td>\n",
       "    </tr>\n",
       "    <tr>\n",
       "      <th>h</th>\n",
       "      <td>8</td>\n",
       "      <td>11</td>\n",
       "      <td>2</td>\n",
       "    </tr>\n",
       "  </tbody>\n",
       "</table>\n",
       "</div>"
      ],
      "text/plain": [
       "   start_time  finish_time  weight\n",
       "a           0            6      17\n",
       "b           1            4       8\n",
       "c           3            5       5\n",
       "d           3            8      14\n",
       "e           4            7       7\n",
       "f           5            9       3\n",
       "g           6           10      10\n",
       "h           8           11       2"
      ]
     },
     "execution_count": 1,
     "metadata": {},
     "output_type": "execute_result"
    }
   ],
   "source": [
    "import random\n",
    "import numpy as np\n",
    "import pandas as pd\n",
    "\n",
    "sched_items = pd.DataFrame(index = [\"a\", \"b\", \"c\", \"d\", \"e\", \"f\", \"g\", \"h\"])\n",
    "sched_items[\"start_time\"] = [0, 1, 3, 3, 4, 5, 6, 8]\n",
    "sched_items[\"finish_time\"] = [6, 4, 5, 8, 7, 9, 10, 11]\n",
    "sched_items[\"weight\"] = [17, 8, 5, 14, 7, 3, 10, 2]\n",
    "sched_items"
   ]
  },
  {
   "cell_type": "code",
   "execution_count": 2,
   "metadata": {},
   "outputs": [],
   "source": [
    "def greedy_WISP(gdfItems):\n",
    "    '''\n",
    "    For a given a dataframe that holds the information on the items, \n",
    "    return total weight of the the scheduled items and the id's of the \n",
    "    items that are scheduled (as a list) using earliest finish time first algorithm\n",
    "    '''\n",
    "\n",
    "    gdfItems.sort_values(\"finish_time\", ascending=True, inplace=True, kind='mergesort')\n",
    "    # print(gdfItems)\n",
    "\n",
    "    t_vListItems = []\n",
    "    t_vListItems.append(gdfItems.iloc[0].name) # add first item in sorted dataframe\n",
    "    \n",
    "    t_vAllItems = list(gdfItems.index)\n",
    "    t_vAllItems.remove(t_vListItems[0]) # first item is already scheduled, update list\n",
    "    \n",
    "    # iterate over all the remaining items\n",
    "    for j in t_vAllItems:\n",
    "        if gdfItems.loc[j].start_time >=  gdfItems.loc[t_vListItems[-1]].finish_time:\n",
    "            t_vListItems.append(gdfItems.loc[j].name)\n",
    "\n",
    "    tmp_dTotalWeight = gdfItems.loc[t_vListItems].sum().weight\n",
    "    \n",
    "    return tmp_dTotalWeight, t_vListItems"
   ]
  },
  {
   "cell_type": "code",
   "execution_count": 3,
   "metadata": {},
   "outputs": [
    {
     "name": "stdout",
     "output_type": "stream",
     "text": [
      "dtotalWeight: 17 vlistItems: ['b', 'e', 'h']\n"
     ]
    }
   ],
   "source": [
    "dtotalWeight, vlistItems = greedy_WISP(sched_items.copy()) # send the copy so that original df will not be modified\n",
    "print(\"dtotalWeight: %s vlistItems: %s\" %(dtotalWeight, vlistItems))"
   ]
  },
  {
   "cell_type": "code",
   "execution_count": 4,
   "metadata": {},
   "outputs": [],
   "source": [
    "def DP_WISP(gdfItems):\n",
    "    '''\n",
    "    For a given a dataframe that holds the information on the items, \n",
    "    return total weight of the the scheduled items and the id's of the \n",
    "    items that are scheduled (as a list) using a DP algorithm\n",
    "    '''\n",
    "    \n",
    "    gdfItems.sort_values(\"finish_time\", ascending=True, inplace=True, kind='mergesort')\n",
    "    gdfItems[\"pval\"] = 0\n",
    "    # print(gdfItems)\n",
    "    # print('\\n')\n",
    "\n",
    "    # gdfItems_new = gdfItems.sort_values(\"start_time\", ascending=True, inplace=False, kind='mergesort')\n",
    "    # print(gdfItems_new)\n",
    "    # print('\\n')\n",
    "\n",
    "    # print(list(gdfItems.index)[::-1])\n",
    "\n",
    "    # calculate p indices\n",
    "    for i in list(gdfItems.index)[::-1]:\n",
    "        for j in list(gdfItems.index)[::-1]:\n",
    "            if i != j:\n",
    "                if gdfItems.loc[i].start_time >=  gdfItems.loc[j].finish_time:\n",
    "                    gdfItems.loc[i, \"pval\"] = j\n",
    "                    # print(i,j)\n",
    "                    break\n",
    "    \n",
    "    # print(gdfItems)\n",
    "    # print('\\n')\n",
    "\n",
    "    dic_keys = list(gdfItems.index)\n",
    "    dic_keys.insert(0,0)\n",
    "    # print(dic_keys)\n",
    "\n",
    "    tmp_vListItems = []\n",
    "    tmp_dpTable = dict(zip(dic_keys, np.zeros(len(dic_keys))))\n",
    "    # print(\"tmp_dpTable %s\" %tmp_dpTable)\n",
    "    t_iCtr = 1\n",
    "    for j in list(gdfItems.index):\n",
    "        tmp_dpTable[j] = max(gdfItems.loc[j].weight + tmp_dpTable[gdfItems.loc[j].pval], tmp_dpTable[dic_keys[t_iCtr - 1]])\n",
    "        t_iCtr += 1\n",
    "\n",
    "    # print(\"tmp_dpTable %s\" %tmp_dpTable)\n",
    "\n",
    "    dic_keys = list(gdfItems.index)\n",
    "    dic_keys.insert(0,0)\n",
    "    dic_vals = np.arange(len(dic_keys))\n",
    "    # print(\"dic_keys: %s\" %dic_keys)\n",
    "    # print(\"dic_vals: %s\" %dic_vals)\n",
    "    my_dict = dict(zip(dic_keys, dic_vals))\n",
    "    # print(\"my_dict: %s\" %my_dict)\n",
    "\n",
    "    def find_solution_wisp(j):\n",
    "        if j == 0:\n",
    "            return []\n",
    "        elif (gdfItems.loc[j].weight  + tmp_dpTable[gdfItems.loc[j].pval] > tmp_dpTable[dic_keys[my_dict[j] - 1]]):\n",
    "            return [j] + find_solution_wisp(gdfItems.loc[j].pval)\n",
    "        else:\n",
    "            return find_solution_wisp(dic_keys[my_dict[j] - 1])\n",
    "\n",
    "    vlistItems = find_solution_wisp(dic_keys[-1])\n",
    "\n",
    "    # return tmp_dpTable[list(gdfItems.index)[-1]], tmp_dpTable, gdfItems\n",
    "    return tmp_dpTable[list(gdfItems.index)[-1]], vlistItems"
   ]
  },
  {
   "cell_type": "code",
   "execution_count": 5,
   "metadata": {},
   "outputs": [
    {
     "name": "stdout",
     "output_type": "stream",
     "text": [
      "dtotalWeight: 27.0 vlistItems: ['g', 'a']\n"
     ]
    }
   ],
   "source": [
    "dtotalWeight, vlistItems = DP_WISP(sched_items.copy()) # send the copy so that original df will not be modified\n",
    "print(\"dtotalWeight: %s vlistItems: %s\" %(dtotalWeight, vlistItems))"
   ]
  },
  {
   "cell_type": "markdown",
   "metadata": {},
   "source": [
    "## tests on 5 different cases"
   ]
  },
  {
   "cell_type": "code",
   "execution_count": 6,
   "metadata": {},
   "outputs": [
    {
     "name": "stdout",
     "output_type": "stream",
     "text": [
      "item-ids = ['a' 'b' 'c' 'd' 'e' 'f' 'g' 'h']\n",
      "item-weights = [13 16  1  4  4  8 10 19]\n",
      "greedy_WISP: dtotalWeight= 39 vlistItems= ['b', 'e', 'h']\n",
      "DP_WISP: dtotalWeight= 39.0 vlistItems= ['h', 'e', 'b']\n",
      "\n",
      "\n",
      "item-ids = ['a' 'b' 'c' 'd' 'e' 'f' 'g' 'h']\n",
      "item-weights = [ 6 12 13  9 10 12  6 16]\n",
      "greedy_WISP: dtotalWeight= 38 vlistItems= ['b', 'e', 'h']\n",
      "DP_WISP: dtotalWeight= 38.0 vlistItems= ['h', 'e', 'b']\n",
      "\n",
      "\n",
      "item-ids = ['a' 'b' 'c' 'd' 'e' 'f' 'g' 'h']\n",
      "item-weights = [15  6  2  9  9 19 10  8]\n",
      "greedy_WISP: dtotalWeight= 23 vlistItems= ['b', 'e', 'h']\n",
      "DP_WISP: dtotalWeight= 25.0 vlistItems= ['f', 'b']\n",
      "\n",
      "\n",
      "item-ids = ['a' 'b' 'c' 'd' 'e' 'f' 'g' 'h']\n",
      "item-weights = [ 2  9 18  2  1 15 11 11]\n",
      "greedy_WISP: dtotalWeight= 21 vlistItems= ['b', 'e', 'h']\n",
      "DP_WISP: dtotalWeight= 33.0 vlistItems= ['f', 'c']\n",
      "\n",
      "\n",
      "item-ids = ['a' 'b' 'c' 'd' 'e' 'f' 'g' 'h']\n",
      "item-weights = [10 15  6  2  5  5 10  1]\n",
      "greedy_WISP: dtotalWeight= 21 vlistItems= ['b', 'e', 'h']\n",
      "DP_WISP: dtotalWeight= 25.0 vlistItems= ['g', 'b']\n",
      "\n",
      "\n"
     ]
    }
   ],
   "source": [
    "for n in range(5):\n",
    "    sched_items = pd.DataFrame(index = [\"a\", \"b\", \"c\", \"d\", \"e\", \"f\", \"g\", \"h\"])\n",
    "    print(\"item-ids = %s\" %np.array(sched_items.index))\n",
    "    sched_items[\"start_time\"] = [0, 1, 3, 3, 4, 5, 6, 8]\n",
    "    sched_items[\"finish_time\"] = [6, 4, 5, 8, 7, 9, 10, 11]\n",
    "\n",
    "    np.random.seed(n**2)\n",
    "    sched_items[\"weight\"] = np.random.randint(1, 20, size=len(sched_items[\"start_time\"]))\n",
    "    print(\"item-weights = %s\" %np.array(sched_items[\"weight\"]))\n",
    "    \n",
    "    # print(\"n: %d\" %n)\n",
    "    # print(sched_items)\n",
    "\n",
    "    dtotalWeight, vlistItems = greedy_WISP(sched_items.copy()) # send the copy so that original df will not be modified\n",
    "    print(\"greedy_WISP: dtotalWeight= %s vlistItems= %s\" %(dtotalWeight, vlistItems))\n",
    "\n",
    "    dtotalWeight, vlistItems = DP_WISP(sched_items.copy()) # send the copy so that original df will not be modified\n",
    "    print(\"DP_WISP: dtotalWeight= %s vlistItems= %s\" %(dtotalWeight, vlistItems))\n",
    "    print('\\n')"
   ]
  },
  {
   "cell_type": "markdown",
   "metadata": {},
   "source": [
    "# Knapsack problem"
   ]
  },
  {
   "cell_type": "code",
   "execution_count": 7,
   "metadata": {},
   "outputs": [
    {
     "data": {
      "text/html": [
       "<div>\n",
       "<style scoped>\n",
       "    .dataframe tbody tr th:only-of-type {\n",
       "        vertical-align: middle;\n",
       "    }\n",
       "\n",
       "    .dataframe tbody tr th {\n",
       "        vertical-align: top;\n",
       "    }\n",
       "\n",
       "    .dataframe thead th {\n",
       "        text-align: right;\n",
       "    }\n",
       "</style>\n",
       "<table border=\"1\" class=\"dataframe\">\n",
       "  <thead>\n",
       "    <tr style=\"text-align: right;\">\n",
       "      <th></th>\n",
       "      <th>weight</th>\n",
       "      <th>value</th>\n",
       "    </tr>\n",
       "  </thead>\n",
       "  <tbody>\n",
       "    <tr>\n",
       "      <th>1</th>\n",
       "      <td>1</td>\n",
       "      <td>1</td>\n",
       "    </tr>\n",
       "    <tr>\n",
       "      <th>2</th>\n",
       "      <td>2</td>\n",
       "      <td>6</td>\n",
       "    </tr>\n",
       "    <tr>\n",
       "      <th>3</th>\n",
       "      <td>5</td>\n",
       "      <td>18</td>\n",
       "    </tr>\n",
       "    <tr>\n",
       "      <th>4</th>\n",
       "      <td>6</td>\n",
       "      <td>22</td>\n",
       "    </tr>\n",
       "    <tr>\n",
       "      <th>5</th>\n",
       "      <td>7</td>\n",
       "      <td>28</td>\n",
       "    </tr>\n",
       "  </tbody>\n",
       "</table>\n",
       "</div>"
      ],
      "text/plain": [
       "   weight  value\n",
       "1       1      1\n",
       "2       2      6\n",
       "3       5     18\n",
       "4       6     22\n",
       "5       7     28"
      ]
     },
     "execution_count": 7,
     "metadata": {},
     "output_type": "execute_result"
    }
   ],
   "source": [
    "import random\n",
    "import numpy as np\n",
    "import pandas as pd\n",
    "\n",
    "W = 11\n",
    "\n",
    "knapsack_items = pd.DataFrame(index = [1,2,3,4,5])\n",
    "knapsack_items[\"weight\"] = [1, 2, 5, 6, 7]\n",
    "knapsack_items[\"value\"] = [1, 6, 18, 22, 28]\n",
    "\n",
    "knapsack_items"
   ]
  },
  {
   "cell_type": "code",
   "execution_count": 8,
   "metadata": {},
   "outputs": [],
   "source": [
    "def greedy_knapsack(gdfItems, gW):\n",
    "    '''\n",
    "    For a given a dataframe that holds the information on the items, \n",
    "    return total value of the the items and the id's of the \n",
    "    items (as a list) using greedy-by-ratio algo\n",
    "    '''\n",
    "    \n",
    "    gdfItems[\"ratio\"] = np.round(gdfItems[\"value\"]/gdfItems[\"weight\"],2)\n",
    "    \n",
    "    gdfItems.sort_values(\"ratio\", ascending=False, inplace=True, kind='mergesort')\n",
    "    # gdfItems.sort_values(\"weight\", ascending=True, inplace=True, kind='mergesort')\n",
    "\n",
    "    # print(gdfItems)\n",
    "    # print('\\n')\n",
    "\n",
    "    t_vSelectedItemIDs = []\n",
    "    tmp_dVal = 0\n",
    "    t_dRemaining_cap = gW\n",
    "\n",
    "    # iterate over all the items\n",
    "    for i in list(gdfItems.index):\n",
    "        if(gdfItems.loc[i].weight <=  t_dRemaining_cap):\n",
    "            tmp_dVal += gdfItems.loc[i].value\n",
    "            t_vSelectedItemIDs.append(i)\n",
    "            t_dRemaining_cap = t_dRemaining_cap - gdfItems.loc[i].weight\n",
    "        \n",
    "        assert t_dRemaining_cap >=0, \"t_dRemaining_cap cannot be smaller than 0\"\n",
    "\n",
    "        if (t_dRemaining_cap == 0):\n",
    "            break\n",
    "\n",
    "    return tmp_dVal, t_vSelectedItemIDs"
   ]
  },
  {
   "cell_type": "code",
   "execution_count": 9,
   "metadata": {},
   "outputs": [
    {
     "name": "stdout",
     "output_type": "stream",
     "text": [
      "dtotalVal: 35.0 vlistItems: [5, 2, 1]\n"
     ]
    }
   ],
   "source": [
    "dtotalVal, vlistItems = greedy_knapsack(knapsack_items.copy(), W) # send the copy so that original df will not be modified\n",
    "print(\"dtotalVal: %s vlistItems: %s\" %(dtotalVal, vlistItems))"
   ]
  },
  {
   "cell_type": "code",
   "execution_count": 10,
   "metadata": {},
   "outputs": [],
   "source": [
    "def DP_knapsack(gdfItems, gW):\n",
    "    '''\n",
    "    For a given a dataframe that holds the information on the items, \n",
    "    return total value of the the items and the id's of the \n",
    "    items (as a list) using a DP algo\n",
    "    '''\n",
    "    \n",
    "    t_dpTable = np.zeros((gdfItems.shape[0]+1, gW+1))\n",
    "    t_dpTable_items = np.zeros((gdfItems.shape[0]+1, gW+1))\n",
    "\n",
    "    # print(t_dpTable)\n",
    "    # print('\\n')\n",
    "\n",
    "    for i in list(gdfItems.index):\n",
    "        for w in range(gW+1):\n",
    "            if (gdfItems.loc[i].weight <= w) and (gdfItems.loc[i].value + t_dpTable[i-1][w - gdfItems.loc[i].weight] > t_dpTable[i-1][w]):\n",
    "                t_dpTable[i][w] = gdfItems.loc[i].value + t_dpTable[i-1][w - gdfItems.loc[i].weight]\n",
    "                t_dpTable_items[i][w] = 1\n",
    "            else:\n",
    "                t_dpTable[i][w] = t_dpTable[i-1][w]\n",
    "    \n",
    "    # print(t_dpTable)\n",
    "    # print('\\n')\n",
    "\n",
    "    # print(t_dpTable_items)\n",
    "    # print('\\n')\n",
    "\n",
    "    tmp_vpicks = []\n",
    "    t_dRemaining_cap = gW\n",
    "\n",
    "    # traverse the DP table to identify which items were picked\n",
    "    for i in range(gdfItems.shape[0],0,-1):\n",
    "        if t_dpTable_items[i][t_dRemaining_cap] == 1:\n",
    "            tmp_vpicks.append(i)\n",
    "            t_dRemaining_cap -= gdfItems.loc[i].weight\n",
    "    tmp_vpicks.sort()\n",
    "    # print(\"tmp_vpicks: %s\" %tmp_vpicks)\n",
    "\n",
    "    return t_dpTable[list(gdfItems.index)[-1]][gW], tmp_vpicks"
   ]
  },
  {
   "cell_type": "code",
   "execution_count": 11,
   "metadata": {},
   "outputs": [
    {
     "name": "stdout",
     "output_type": "stream",
     "text": [
      "dtotalVal_DP: 40.0 vlistItems_DP: [3, 4]\n"
     ]
    }
   ],
   "source": [
    "dtotalVal_DP, vlistItems_DP = DP_knapsack(knapsack_items.copy(), W)\n",
    "print(\"dtotalVal_DP: %s vlistItems_DP: %s\" %(dtotalVal_DP, vlistItems_DP))"
   ]
  },
  {
   "cell_type": "markdown",
   "metadata": {},
   "source": [
    "## test on 5 different cases"
   ]
  },
  {
   "cell_type": "code",
   "execution_count": 12,
   "metadata": {},
   "outputs": [
    {
     "name": "stdout",
     "output_type": "stream",
     "text": [
      "item-weights = [1 2 5 6 7]\n",
      "item-values = [ 1  4  4 40 10]\n",
      "greedy_knapsack: dtotalVal= 45.0 vlistItems= [4, 2, 1]\n",
      "DP_knapsack: dtotalVal_DP= 45.0 vlistItems_DP= [1, 2, 4]\n",
      "\n",
      "\n",
      "item-weights = [1 2 5 6 7]\n",
      "item-values = [38 13  9 10 12]\n",
      "greedy_knapsack: dtotalVal= 60.0 vlistItems= [1, 2, 3]\n",
      "DP_knapsack: dtotalVal_DP= 63.0 vlistItems_DP= [1, 2, 5]\n",
      "\n",
      "\n",
      "item-weights = [1 2 5 6 7]\n",
      "item-values = [ 4 21  6 27  9]\n",
      "greedy_knapsack: dtotalVal= 52.0 vlistItems= [2, 4, 1]\n",
      "DP_knapsack: dtotalVal_DP= 52.0 vlistItems_DP= [1, 2, 4]\n",
      "\n",
      "\n",
      "item-weights = [1 2 5 6 7]\n",
      "item-values = [20  9 32 38 25]\n",
      "greedy_knapsack: dtotalVal= 61.0 vlistItems= [1, 3, 2]\n",
      "DP_knapsack: dtotalVal_DP= 70.0 vlistItems_DP= [3, 4]\n",
      "\n",
      "\n",
      "item-weights = [1 2 5 6 7]\n",
      "item-values = [ 5 39 39 22 32]\n",
      "greedy_knapsack: dtotalVal= 83.0 vlistItems= [2, 3, 1]\n",
      "DP_knapsack: dtotalVal_DP= 83.0 vlistItems_DP= [1, 2, 3]\n",
      "\n",
      "\n"
     ]
    }
   ],
   "source": [
    "for n in range(5):\n",
    "    W = 11\n",
    "\n",
    "    knapsack_items = pd.DataFrame(index = [1,2,3,4,5])\n",
    "    knapsack_items[\"weight\"] = [1, 2, 5, 6, 7]\n",
    "    print(\"item-weights = %s\" %np.array(knapsack_items[\"weight\"]))\n",
    "\n",
    "    np.random.seed(n**3)\n",
    "    knapsack_items[\"value\"] = np.random.randint(1, 42, size=len(knapsack_items[\"weight\"]))\n",
    "    print(\"item-values = %s\" %np.array(knapsack_items[\"value\"]))\n",
    "\n",
    "    dtotalVal, vlistItems = greedy_knapsack(knapsack_items.copy(), W) # send the copy so that original df will not be modified\n",
    "    print(\"greedy_knapsack: dtotalVal= %s vlistItems= %s\" %(dtotalVal, vlistItems))\n",
    "\n",
    "    dtotalVal_DP, vlistItems_DP = DP_knapsack(knapsack_items.copy(), W)\n",
    "    print(\"DP_knapsack: dtotalVal_DP= %s vlistItems_DP= %s\" %(dtotalVal_DP, vlistItems_DP))\n",
    "    print('\\n')"
   ]
  }
 ],
 "metadata": {
  "kernelspec": {
   "display_name": "Python (envp37)",
   "language": "python",
   "name": "envp37"
  },
  "language_info": {
   "codemirror_mode": {
    "name": "ipython",
    "version": 3
   },
   "file_extension": ".py",
   "mimetype": "text/x-python",
   "name": "python",
   "nbconvert_exporter": "python",
   "pygments_lexer": "ipython3",
   "version": "3.7.7"
  },
  "latex_envs": {
   "LaTeX_envs_menu_present": true,
   "autoclose": false,
   "autocomplete": true,
   "bibliofile": "biblio.bib",
   "cite_by": "apalike",
   "current_citInitial": 1,
   "eqLabelWithNumbers": true,
   "eqNumInitial": 1,
   "hotkeys": {
    "equation": "Ctrl-E",
    "itemize": "Ctrl-I"
   },
   "labels_anchors": false,
   "latex_user_defs": false,
   "report_style_numbering": false,
   "user_envs_cfg": false
  },
  "toc": {
   "base_numbering": 1,
   "nav_menu": {},
   "number_sections": true,
   "sideBar": true,
   "skip_h1_title": false,
   "title_cell": "Table of Contents",
   "title_sidebar": "Contents",
   "toc_cell": false,
   "toc_position": {},
   "toc_section_display": true,
   "toc_window_display": false
  }
 },
 "nbformat": 4,
 "nbformat_minor": 4
}
