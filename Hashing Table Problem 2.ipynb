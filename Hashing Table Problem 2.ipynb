{
 "cells": [
  {
   "cell_type": "code",
   "execution_count": 10,
   "metadata": {},
   "outputs": [],
   "source": [
    "import numpy as np\n",
    "import pandas as pd\n",
    "import random"
   ]
  },
  {
   "cell_type": "code",
   "execution_count": 11,
   "metadata": {},
   "outputs": [],
   "source": [
    "A = np.array([[1,0,1,0], \n",
    "              [1,0,0,1],\n",
    "              [0,1,0,1], \n",
    "              [0,1,0,1],\n",
    "              [0,1,0,1],\n",
    "              [1,0,1,0], \n",
    "              [1,0,1,0]])"
   ]
  },
  {
   "cell_type": "code",
   "execution_count": 12,
   "metadata": {},
   "outputs": [],
   "source": [
    "p1 = np.array([[2,3,7,6,1,5,4], \n",
    "               [4,2,1,3,6,7,5],\n",
    "               [3,4,7,2,6,1,5]]).T"
   ]
  },
  {
   "cell_type": "code",
   "execution_count": 5,
   "metadata": {},
   "outputs": [
    {
     "data": {
      "text/plain": [
       "array([[1, 4, 5],\n",
       "       [4, 2, 1],\n",
       "       [7, 7, 7],\n",
       "       [5, 3, 4],\n",
       "       [6, 5, 3],\n",
       "       [2, 1, 6],\n",
       "       [3, 6, 2]])"
      ]
     },
     "execution_count": 5,
     "metadata": {},
     "output_type": "execute_result"
    }
   ],
   "source": [
    "def get_permutations(A):\n",
    "    shingles = A.shape[0]\n",
    "    docs = 3\n",
    "    permutations = []\n",
    "    for i in range(docs):\n",
    "        permutations.append(np.array(random.sample(range(1, 1+shingles), shingles)))\n",
    "    permutations = np.array(permutations)\n",
    "\n",
    "    return permutations.T\n",
    "\n",
    "p2 = get_permutations(A)"
   ]
  },
  {
   "cell_type": "code",
   "execution_count": 13,
   "metadata": {},
   "outputs": [],
   "source": [
    "def get_signature(A, p1):\n",
    "    permutation_list = [list(p1[:, i]) for i in range(3)]\n",
    "    signature_matrix = []\n",
    "    for l in permutation_list:\n",
    "        M = [0]*A.shape[1]\n",
    "        for i in range(1,A.shape[0]+1):\n",
    "            j = l.index(i)\n",
    "            for k in range(len(A[j])):\n",
    "                if A[j][k] == 1:\n",
    "                    if M[k] == 0:\n",
    "                        M[k] = l[j]\n",
    "        signature_matrix.append(M)\n",
    "    return np.array(signature_matrix)"
   ]
  },
  {
   "cell_type": "code",
   "execution_count": 14,
   "metadata": {},
   "outputs": [
    {
     "data": {
      "text/plain": [
       "array([[2, 1, 2, 1],\n",
       "       [2, 1, 4, 1],\n",
       "       [1, 2, 1, 2]])"
      ]
     },
     "execution_count": 14,
     "metadata": {},
     "output_type": "execute_result"
    }
   ],
   "source": [
    "signature_matrix = get_signature(A, p1)\n",
    "signature_matrix"
   ]
  },
  {
   "cell_type": "code",
   "execution_count": 15,
   "metadata": {},
   "outputs": [],
   "source": [
    "A_columns = list(range(1, A.shape[1] + 1))\n",
    "column_list = []\n",
    "for i in range(1, len(A_columns)+1):\n",
    "    for j in range(i, len(A_columns)+1):\n",
    "        if i != j:\n",
    "            column_list.append([i, j])"
   ]
  },
  {
   "cell_type": "code",
   "execution_count": 16,
   "metadata": {},
   "outputs": [
    {
     "data": {
      "text/html": [
       "<div>\n",
       "<style scoped>\n",
       "    .dataframe tbody tr th:only-of-type {\n",
       "        vertical-align: middle;\n",
       "    }\n",
       "\n",
       "    .dataframe tbody tr th {\n",
       "        vertical-align: top;\n",
       "    }\n",
       "\n",
       "    .dataframe thead th {\n",
       "        text-align: right;\n",
       "    }\n",
       "</style>\n",
       "<table border=\"1\" class=\"dataframe\">\n",
       "  <thead>\n",
       "    <tr style=\"text-align: right;\">\n",
       "      <th></th>\n",
       "      <th>[1, 2]</th>\n",
       "      <th>[1, 3]</th>\n",
       "      <th>[1, 4]</th>\n",
       "      <th>[2, 3]</th>\n",
       "      <th>[2, 4]</th>\n",
       "      <th>[3, 4]</th>\n",
       "    </tr>\n",
       "  </thead>\n",
       "  <tbody>\n",
       "    <tr>\n",
       "      <th>Col/Col</th>\n",
       "      <td>0</td>\n",
       "      <td>0.75</td>\n",
       "      <td>0.14</td>\n",
       "      <td>0</td>\n",
       "      <td>0.75</td>\n",
       "      <td>0</td>\n",
       "    </tr>\n",
       "    <tr>\n",
       "      <th>Sig/Sig</th>\n",
       "      <td>0</td>\n",
       "      <td>0.67</td>\n",
       "      <td>0</td>\n",
       "      <td>0</td>\n",
       "      <td>1.0</td>\n",
       "      <td>0</td>\n",
       "    </tr>\n",
       "  </tbody>\n",
       "</table>\n",
       "</div>"
      ],
      "text/plain": [
       "        [1, 2] [1, 3] [1, 4] [2, 3] [2, 4] [3, 4]\n",
       "Col/Col      0   0.75   0.14      0   0.75      0\n",
       "Sig/Sig      0   0.67      0      0    1.0      0"
      ]
     },
     "execution_count": 16,
     "metadata": {},
     "output_type": "execute_result"
    }
   ],
   "source": [
    "df = pd.DataFrame(columns = [str(i) for i in column_list])\n",
    "for col in column_list:\n",
    "    l1 = (A[:,col[0]-1])\n",
    "    l2 = (A[:,col[1]-1])\n",
    "    match = 0\n",
    "    el = 0\n",
    "    for i in range(len(l1)):\n",
    "        if l1[i] == 1 and l2[i] == 1:\n",
    "            match = match + 1\n",
    "            el = el + 1\n",
    "        elif (l1[i] == 0 and l2[i] == 1) or (l1[i] == 1 and l2[i] == 0):\n",
    "            el =el + 1\n",
    "        if (match!=0 and el !=0):\n",
    "            df.at['Col/Col', str(col)] = str(round((match/el),2))\n",
    "        else:\n",
    "            df.at['Col/Col', str(col)] = 0\n",
    "    \n",
    "for col in column_list:\n",
    "    l1 = (signature_matrix[:,col[0]-1])\n",
    "    l2 = (signature_matrix[:,col[1]-1])\n",
    "    match = 0\n",
    "    el = 0\n",
    "    for i in range(len(l1)):\n",
    "        if l1[i] == l2[i]:\n",
    "            match = match + 1\n",
    "            el = el + 1\n",
    "        else:\n",
    "            el =el + 1\n",
    "        if (match!=0 and el !=0):\n",
    "            df.at['Sig/Sig', str(col)] = str(round((match/el),2))\n",
    "        else:\n",
    "            df.at['Sig/Sig', str(col)] = 0\n",
    "df"
   ]
  }
 ],
 "metadata": {
  "interpreter": {
   "hash": "aee8b7b246df8f9039afb4144a1f6fd8d2ca17a180786b69acc140d282b71a49"
  },
  "kernelspec": {
   "display_name": "Python 3.9.7 64-bit",
   "language": "python",
   "name": "python3"
  },
  "language_info": {
   "codemirror_mode": {
    "name": "ipython",
    "version": 3
   },
   "file_extension": ".py",
   "mimetype": "text/x-python",
   "name": "python",
   "nbconvert_exporter": "python",
   "pygments_lexer": "ipython3",
   "version": "3.9.7"
  },
  "orig_nbformat": 4
 },
 "nbformat": 4,
 "nbformat_minor": 2
}
